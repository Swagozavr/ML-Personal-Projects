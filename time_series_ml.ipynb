{
 "cells": [
  {
   "cell_type": "markdown",
   "id": "58622a5c-8208-4de4-ab5c-e75b1e39e0de",
   "metadata": {},
   "source": [
    "# Проект | Временные ряды"
   ]
  },
  {
   "cell_type": "markdown",
   "id": "534fd478-c74f-49af-90a8-64cacc08945c",
   "metadata": {},
   "source": [
    "**Цель проекта:**  \n",
    "Разработать модель машинного обучения для прогнозирования количества заказов такси в аэропортах на следующий час. Решение позволит оптимизировать работу водителей в периоды пиковой нагрузки и повысить качество сервиса.\n",
    "\n",
    "**Основная задача:**  \n",
    "Значение метрики RMSE на тестовой выборке не должно превышать 48.\n",
    "\n",
    "**План работы:**  \n",
    "1.  Загрузка данных и ресемплирование по одному часу.\n",
    "2.  Исследовательский анализ данных (EDA).\n",
    "3.  Обучение и валидация нескольких моделей с подбором гиперпараметров.\n",
    "4.  Выделение тестовой выборки (10% от данных) и финальная проверка качества модели.\n",
    "5.  Формулирование выводов о пригодности модели для решения бизнес-задачи."
   ]
  },
  {
   "cell_type": "markdown",
   "id": "fd52d82b-f5b8-4137-a930-4e743b9b3bff",
   "metadata": {},
   "source": [
    "## Оглавление<a id=\"0\"></a>"
   ]
  },
  {
   "cell_type": "markdown",
   "id": "bd2ad6fe-c449-4b40-9da9-91b2aaa561e9",
   "metadata": {},
   "source": [
    "1. [Оглавление](#0)\n",
    "2. [Импорт библиотек](#1)\n",
    "3. [Заведение функций](#2)\n",
    "4. [Загрузка и предобработка данных](#3)\n",
    "    * [Базовые графики](#4)\n",
    "    * [Скользящие значения](#5)\n",
    "    * [Лаговые закономерности](#6)\n",
    "    * [Временные закономерности](#7)\n",
    "5. [Обучение моделей](#8)\n",
    "    * [Подготовка признаков](#9)\n",
    "    * [Линейная регрессия](#10)\n",
    "    * [Random Forest](#11)\n",
    "    * [LGBM](#12)\n",
    "    * [CatBoost](#13)\n",
    "6. [Вывод по проекту](#14)\n",
    "7. [Рекомендации бизнесу](#15)"
   ]
  },
  {
   "cell_type": "markdown",
   "id": "a9f5e4d8-737d-4a5c-a035-e59c4efaaa9e",
   "metadata": {},
   "source": [
    "## Импорт библиотек<a id=\"1\"></a>"
   ]
  },
  {
   "cell_type": "code",
   "execution_count": 1,
   "id": "1e4dba6f-9490-4fe0-95bf-6abced66676a",
   "metadata": {},
   "outputs": [],
   "source": [
    "import warnings\n",
    "warnings.filterwarnings(\"ignore\")\n",
    "\n",
    "import numpy as np\n",
    "import pandas as pd\n",
    "import matplotlib.pyplot as plt\n",
    "\n",
    "from statsmodels.tsa.seasonal import seasonal_decompose\n",
    "from statsmodels.graphics.tsaplots import plot_acf, plot_pacf\n",
    "\n",
    "from sklearn.linear_model import LinearRegression\n",
    "from sklearn.model_selection import cross_val_score\n",
    "from sklearn.metrics import mean_squared_error\n",
    "from sklearn.model_selection import TimeSeriesSplit, GridSearchCV\n",
    "from sklearn.ensemble import RandomForestRegressor\n",
    "\n",
    "from catboost import CatBoostRegressor\n",
    "from lightgbm import LGBMRegressor"
   ]
  },
  {
   "cell_type": "markdown",
   "id": "f48d61fc-0d22-4332-9582-623e73f7684d",
   "metadata": {},
   "source": [
    "## Заведение функций<a id=\"2\"></a>"
   ]
  },
  {
   "cell_type": "code",
   "execution_count": 2,
   "id": "5993cbb0-a1a7-4ddf-b7d2-554637576f19",
   "metadata": {},
   "outputs": [],
   "source": [
    "#Rooted не пашет, пришлось делать вручную\n",
    "\n",
    "def rmse(y_true, y_pred):\n",
    "    return np.sqrt(mean_squared_error(y_true, y_pred))"
   ]
  },
  {
   "cell_type": "code",
   "execution_count": 3,
   "id": "f1fe998f-a803-4d6d-b224-d852c9e11324",
   "metadata": {},
   "outputs": [],
   "source": [
    "# Базовые графики на посмотреть\n",
    "\n",
    "def plot_basic(y):\n",
    "    fig, axes = plt.subplots(1, 2, figsize=(14,4))\n",
    "    axes[0].plot(y.index, y.values)\n",
    "    axes[0].set_title(\"Отметка времени\")\n",
    "    axes[0].set_xlabel(\"Время\")\n",
    "    axes[0].set_ylabel(\"Заказы\")\n",
    "    axes[1].hist(y.dropna().values, bins=30)\n",
    "    axes[1].set_title(\"Гистограмма заказов\")\n",
    "    axes[1].set_xlabel(\"Заказы\")\n",
    "    axes[1].set_ylabel(\"Кол-во\")\n",
    "    \n",
    "    plt.tight_layout()\n",
    "    plt.show()"
   ]
  },
  {
   "cell_type": "code",
   "execution_count": 4,
   "id": "552a10e0-e87f-4bcf-af48-09cae8af6991",
   "metadata": {},
   "outputs": [],
   "source": [
    "# Фичи\n",
    "\n",
    "def build_features(df):\n",
    "    out = df.copy()\n",
    "    for lag in range(1, 25):\n",
    "        out[f'lag_{lag}'] = out['num_orders'].shift(lag)\n",
    "    out['lag_168'] = out['num_orders'].shift(168)\n",
    "    out['hour'] = out.index.hour\n",
    "    out['dow']  = out.index.dayofweek\n",
    "    out = pd.get_dummies(out, columns=['hour', 'dow'], drop_first=True, dtype=np.int8)\n",
    "    out = out.dropna()\n",
    "    X = out.drop(columns=['num_orders'])\n",
    "    y = out['num_orders'].astype(float)\n",
    "    return X, y"
   ]
  },
  {
   "cell_type": "code",
   "execution_count": 5,
   "id": "358b795f-e95b-4dd6-9450-9c3628742592",
   "metadata": {},
   "outputs": [],
   "source": [
    "# Графики для скользящих\n",
    "\n",
    "def plot_rollings(y, windows=(24, 168)):\n",
    "    fig, axes = plt.subplots(1, 2, figsize=(14,4))\n",
    "    axes[0].plot(y.index, y.values, alpha=0.4, label=\"raw\")\n",
    "    for w in windows:\n",
    "        axes[0].plot(y.index, y.rolling(w).mean(), label=f\"mean {w}\")\n",
    "    axes[0].set_title(\"Скользящее среднее\")\n",
    "    axes[0].legend()\n",
    "    for w in windows:\n",
    "        axes[1].plot(y.index, y.rolling(w).std(), label=f\"std {w}\")\n",
    "    axes[1].set_title(\"Скользящее STD\")\n",
    "    axes[1].legend()\n",
    "    \n",
    "    plt.tight_layout()\n",
    "    plt.show()"
   ]
  },
  {
   "cell_type": "code",
   "execution_count": 6,
   "id": "5de18791-a65d-4a68-97e3-a83f0a66bf63",
   "metadata": {},
   "outputs": [],
   "source": [
    "# Графики для периодичностей\n",
    "\n",
    "def plot_corrs(y, lags=60):\n",
    "    y = y.dropna()\n",
    "    fig, axes = plt.subplots(1, 2, figsize=(14,4))\n",
    "    plot_acf(y, ax=axes[0], lags=lags)\n",
    "    plot_pacf(y, ax=axes[1], lags=lags, method=\"ywm\")\n",
    "    axes[0].set_title(\"ACF\")\n",
    "    axes[1].set_title(\"PACF\")\n",
    "    plt.tight_layout()\n",
    "    plt.show()"
   ]
  },
  {
   "cell_type": "code",
   "execution_count": 7,
   "id": "fe55fa29-40cb-42bb-83be-234d3c5206dd",
   "metadata": {},
   "outputs": [],
   "source": [
    "# Графики для календарных оценок\n",
    "\n",
    "def plot_calendar(y, agg=\"mean\"):\n",
    "    df = y.to_frame(\"val\")\n",
    "    df[\"hour\"] = df.index.hour\n",
    "    df[\"dow\"] = df.index.dayofweek\n",
    "    by_hour = getattr(df.groupby(\"hour\")[\"val\"], agg)()\n",
    "    by_dow = getattr(df.groupby(\"dow\")[\"val\"], agg)()\n",
    "    heat = getattr(df.groupby([\"dow\",\"hour\"])[\"val\"], agg)().unstack(\"hour\")\n",
    "    \n",
    "    fig, axes = plt.subplots(1, 3, figsize=(18,4))\n",
    "    axes[0].plot(by_hour.index, by_hour.values, marker=\"o\")\n",
    "    axes[0].set_title(\"По часам\")\n",
    "    axes[0].set_xlabel(\"Час\")\n",
    "    axes[1].bar(by_dow.index, by_dow.values)\n",
    "    axes[1].set_title(\"По дню недели\")\n",
    "    axes[1].set_xticks(range(7))\n",
    "    axes[1].set_xticklabels([\"ПН\",\"ВТ\",\"СР\",\"ЧТ\",\"ПТ\",\"СБ\",\"ВС\"])\n",
    "    im = axes[2].imshow(heat.values, aspect=\"auto\", origin=\"lower\")\n",
    "    axes[2].set_title(\"День недели x Час\")\n",
    "    axes[2].set_yticks(range(7))\n",
    "    axes[2].set_yticklabels([\"ПН\",\"ВТ\",\"СР\",\"ЧТ\",\"ПТ\",\"СБ\",\"ВС\"])\n",
    "    axes[2].set_xticks(range(24))\n",
    "    axes[2].set_xticklabels(range(24))\n",
    "    plt.colorbar(im, ax=axes[2], fraction=0.046, pad=0.04)\n",
    "    \n",
    "    plt.tight_layout()\n",
    "    plt.show()"
   ]
  },
  {
   "cell_type": "markdown",
   "id": "72a59992-c6ad-4aea-837b-fc159bbca88c",
   "metadata": {},
   "source": [
    "## Загрузка и предобработка данных<a id=\"3\"></a>"
   ]
  },
  {
   "cell_type": "code",
   "execution_count": 8,
   "id": "bb2f0aeb-0535-4a8b-8e24-fd1062699f3a",
   "metadata": {},
   "outputs": [
    {
     "data": {
      "text/html": [
       "<div>\n",
       "<style scoped>\n",
       "    .dataframe tbody tr th:only-of-type {\n",
       "        vertical-align: middle;\n",
       "    }\n",
       "\n",
       "    .dataframe tbody tr th {\n",
       "        vertical-align: top;\n",
       "    }\n",
       "\n",
       "    .dataframe thead th {\n",
       "        text-align: right;\n",
       "    }\n",
       "</style>\n",
       "<table border=\"1\" class=\"dataframe\">\n",
       "  <thead>\n",
       "    <tr style=\"text-align: right;\">\n",
       "      <th></th>\n",
       "      <th>num_orders</th>\n",
       "    </tr>\n",
       "    <tr>\n",
       "      <th>datetime</th>\n",
       "      <th></th>\n",
       "    </tr>\n",
       "  </thead>\n",
       "  <tbody>\n",
       "    <tr>\n",
       "      <th>2018-03-01 00:00:00</th>\n",
       "      <td>9</td>\n",
       "    </tr>\n",
       "    <tr>\n",
       "      <th>2018-03-01 00:10:00</th>\n",
       "      <td>14</td>\n",
       "    </tr>\n",
       "    <tr>\n",
       "      <th>2018-03-01 00:20:00</th>\n",
       "      <td>28</td>\n",
       "    </tr>\n",
       "    <tr>\n",
       "      <th>2018-03-01 00:30:00</th>\n",
       "      <td>20</td>\n",
       "    </tr>\n",
       "    <tr>\n",
       "      <th>2018-03-01 00:40:00</th>\n",
       "      <td>32</td>\n",
       "    </tr>\n",
       "    <tr>\n",
       "      <th>2018-03-01 00:50:00</th>\n",
       "      <td>21</td>\n",
       "    </tr>\n",
       "    <tr>\n",
       "      <th>2018-03-01 01:00:00</th>\n",
       "      <td>7</td>\n",
       "    </tr>\n",
       "    <tr>\n",
       "      <th>2018-03-01 01:10:00</th>\n",
       "      <td>5</td>\n",
       "    </tr>\n",
       "    <tr>\n",
       "      <th>2018-03-01 01:20:00</th>\n",
       "      <td>17</td>\n",
       "    </tr>\n",
       "    <tr>\n",
       "      <th>2018-03-01 01:30:00</th>\n",
       "      <td>12</td>\n",
       "    </tr>\n",
       "  </tbody>\n",
       "</table>\n",
       "</div>"
      ],
      "text/plain": [
       "                     num_orders\n",
       "datetime                       \n",
       "2018-03-01 00:00:00           9\n",
       "2018-03-01 00:10:00          14\n",
       "2018-03-01 00:20:00          28\n",
       "2018-03-01 00:30:00          20\n",
       "2018-03-01 00:40:00          32\n",
       "2018-03-01 00:50:00          21\n",
       "2018-03-01 01:00:00           7\n",
       "2018-03-01 01:10:00           5\n",
       "2018-03-01 01:20:00          17\n",
       "2018-03-01 01:30:00          12"
      ]
     },
     "execution_count": 8,
     "metadata": {},
     "output_type": "execute_result"
    }
   ],
   "source": [
    "try:\n",
    "    df = pd.read_csv('/datasets/taxi.csv', index_col=[0], parse_dates=[0])\n",
    "except:\n",
    "    df = pd.read_csv(\"taxi.csv\",parse_dates =[0], index_col= 0)\n",
    "df.head(10)"
   ]
  },
  {
   "cell_type": "markdown",
   "id": "37b19522-0cd2-4510-830f-e8ce3305052d",
   "metadata": {},
   "source": [
    "Датафрейм совсем маленький. Однако, проверю его по основным параметрам"
   ]
  },
  {
   "cell_type": "code",
   "execution_count": 9,
   "id": "45c9b1f2-1778-44de-80c0-68a151d753f4",
   "metadata": {},
   "outputs": [
    {
     "name": "stdout",
     "output_type": "stream",
     "text": [
      "<class 'pandas.core.frame.DataFrame'>\n",
      "DatetimeIndex: 26496 entries, 2018-03-01 00:00:00 to 2018-08-31 23:50:00\n",
      "Data columns (total 1 columns):\n",
      " #   Column      Non-Null Count  Dtype\n",
      "---  ------      --------------  -----\n",
      " 0   num_orders  26496 non-null  int64\n",
      "dtypes: int64(1)\n",
      "memory usage: 414.0 KB\n"
     ]
    },
    {
     "data": {
      "text/plain": [
       "None"
      ]
     },
     "metadata": {},
     "output_type": "display_data"
    }
   ],
   "source": [
    "display(df.info())"
   ]
  },
  {
   "cell_type": "code",
   "execution_count": 10,
   "id": "4e66314e-5eaf-4928-803d-f01b6234dcea",
   "metadata": {},
   "outputs": [
    {
     "name": "stdout",
     "output_type": "stream",
     "text": [
      "Монотонная ли функция: True\n"
     ]
    }
   ],
   "source": [
    "print('Монотонная ли функция:',df.index.is_monotonic_increasing)"
   ]
  },
  {
   "cell_type": "code",
   "execution_count": 11,
   "id": "ddddcb93-195d-4a14-b8bc-b54e99bb3813",
   "metadata": {},
   "outputs": [
    {
     "data": {
      "text/html": [
       "<div>\n",
       "<style scoped>\n",
       "    .dataframe tbody tr th:only-of-type {\n",
       "        vertical-align: middle;\n",
       "    }\n",
       "\n",
       "    .dataframe tbody tr th {\n",
       "        vertical-align: top;\n",
       "    }\n",
       "\n",
       "    .dataframe thead th {\n",
       "        text-align: right;\n",
       "    }\n",
       "</style>\n",
       "<table border=\"1\" class=\"dataframe\">\n",
       "  <thead>\n",
       "    <tr style=\"text-align: right;\">\n",
       "      <th></th>\n",
       "      <th>num_orders</th>\n",
       "    </tr>\n",
       "    <tr>\n",
       "      <th>datetime</th>\n",
       "      <th></th>\n",
       "    </tr>\n",
       "  </thead>\n",
       "  <tbody>\n",
       "    <tr>\n",
       "      <th>2018-03-01 00:00:00</th>\n",
       "      <td>9</td>\n",
       "    </tr>\n",
       "    <tr>\n",
       "      <th>2018-03-01 00:10:00</th>\n",
       "      <td>14</td>\n",
       "    </tr>\n",
       "    <tr>\n",
       "      <th>2018-03-01 00:20:00</th>\n",
       "      <td>28</td>\n",
       "    </tr>\n",
       "    <tr>\n",
       "      <th>2018-03-01 00:30:00</th>\n",
       "      <td>20</td>\n",
       "    </tr>\n",
       "    <tr>\n",
       "      <th>2018-03-01 00:40:00</th>\n",
       "      <td>32</td>\n",
       "    </tr>\n",
       "  </tbody>\n",
       "</table>\n",
       "</div>"
      ],
      "text/plain": [
       "                     num_orders\n",
       "datetime                       \n",
       "2018-03-01 00:00:00           9\n",
       "2018-03-01 00:10:00          14\n",
       "2018-03-01 00:20:00          28\n",
       "2018-03-01 00:30:00          20\n",
       "2018-03-01 00:40:00          32"
      ]
     },
     "execution_count": 11,
     "metadata": {},
     "output_type": "execute_result"
    }
   ],
   "source": [
    "df.head()"
   ]
  },
  {
   "cell_type": "markdown",
   "id": "6f428ae1-ba8f-4450-8dd7-971ab15abd8f",
   "metadata": {},
   "source": [
    "Данные идут с шагом в 10 минут. Ресемплирую их к шагу в один час"
   ]
  },
  {
   "cell_type": "code",
   "execution_count": 12,
   "id": "351cc5d5-cade-4ccc-8bf2-3cbe65c7883a",
   "metadata": {},
   "outputs": [
    {
     "data": {
      "text/html": [
       "<div>\n",
       "<style scoped>\n",
       "    .dataframe tbody tr th:only-of-type {\n",
       "        vertical-align: middle;\n",
       "    }\n",
       "\n",
       "    .dataframe tbody tr th {\n",
       "        vertical-align: top;\n",
       "    }\n",
       "\n",
       "    .dataframe thead th {\n",
       "        text-align: right;\n",
       "    }\n",
       "</style>\n",
       "<table border=\"1\" class=\"dataframe\">\n",
       "  <thead>\n",
       "    <tr style=\"text-align: right;\">\n",
       "      <th></th>\n",
       "      <th>num_orders</th>\n",
       "    </tr>\n",
       "    <tr>\n",
       "      <th>datetime</th>\n",
       "      <th></th>\n",
       "    </tr>\n",
       "  </thead>\n",
       "  <tbody>\n",
       "    <tr>\n",
       "      <th>2018-03-01 00:00:00</th>\n",
       "      <td>124</td>\n",
       "    </tr>\n",
       "    <tr>\n",
       "      <th>2018-03-01 01:00:00</th>\n",
       "      <td>85</td>\n",
       "    </tr>\n",
       "    <tr>\n",
       "      <th>2018-03-01 02:00:00</th>\n",
       "      <td>71</td>\n",
       "    </tr>\n",
       "    <tr>\n",
       "      <th>2018-03-01 03:00:00</th>\n",
       "      <td>66</td>\n",
       "    </tr>\n",
       "    <tr>\n",
       "      <th>2018-03-01 04:00:00</th>\n",
       "      <td>43</td>\n",
       "    </tr>\n",
       "  </tbody>\n",
       "</table>\n",
       "</div>"
      ],
      "text/plain": [
       "                     num_orders\n",
       "datetime                       \n",
       "2018-03-01 00:00:00         124\n",
       "2018-03-01 01:00:00          85\n",
       "2018-03-01 02:00:00          71\n",
       "2018-03-01 03:00:00          66\n",
       "2018-03-01 04:00:00          43"
      ]
     },
     "execution_count": 12,
     "metadata": {},
     "output_type": "execute_result"
    }
   ],
   "source": [
    "df_old = df #Сохраню данные до ресемплирования\n",
    "df = df.resample('1H').sum()\n",
    "df.head()"
   ]
  },
  {
   "cell_type": "markdown",
   "id": "415edde7-8131-4d5f-b248-0876b80761ca",
   "metadata": {},
   "source": [
    "На этом с базовой загрузкой и предобработкой закончим"
   ]
  },
  {
   "cell_type": "markdown",
   "id": "c6d363bc-9715-4366-a9c3-bab6c8617004",
   "metadata": {},
   "source": [
    "## Анализ данных<a id=\"4\"></a>"
   ]
  },
  {
   "cell_type": "markdown",
   "id": "044cf985-193e-4356-a0cd-7d3b615ebd3e",
   "metadata": {},
   "source": [
    "### Базовые графики<a id=\"5\"></a>"
   ]
  },
  {
   "cell_type": "code",
   "execution_count": 13,
   "id": "a53b5a8e-f37d-40fd-aa6d-e653e3219f4d",
   "metadata": {},
   "outputs": [
    {
     "data": {
      "image/png": "[encoded data removed]",
      "text/plain": [
       "<Figure size 1008x288 with 2 Axes>"
      ]
     },
     "metadata": {
      "needs_background": "light"
     },
     "output_type": "display_data"
    }
   ],
   "source": [
    "plot_basic(df['num_orders'])"
   ]
  },
  {
   "cell_type": "markdown",
   "id": "1cea7296-2cb2-4398-acea-848497826793",
   "metadata": {},
   "source": [
    "На графике временного ряда видно, что количество заказов такси имеет выраженный рост в динамике: начиная с весны 2018 года значения в основном находились в пределах 100–150 заказов в час, но к августу–сентябрю наблюдается заметное увеличение, местами превышающее 400 заказов. \n",
    "\n",
    "Распределение заказов асимметричное: большинство значений сосредоточено в районе 50–120, при этом есть длинный «хвост» вправо, связанный с пиками спроса. Это указывает на наличие редких, но значительных выбросов, которые могут быть вызваны особыми событиями или сезонными факторами.\n"
   ]
  },
  {
   "cell_type": "markdown",
   "id": "69f1047f-c940-4417-8b8f-d8b8551411bb",
   "metadata": {},
   "source": [
    "### Скользящие значения<a id=\"6\"></a>"
   ]
  },
  {
   "cell_type": "code",
   "execution_count": 14,
   "id": "684e40aa-3b57-4538-a440-bb02ea0bbffe",
   "metadata": {},
   "outputs": [
    {
     "data": {
      "image/png": "[encoded data removed]",
      "text/plain": [
       "<Figure size 1008x288 with 2 Axes>"
      ]
     },
     "metadata": {
      "needs_background": "light"
     },
     "output_type": "display_data"
    }
   ],
   "source": [
    "plot_rollings(df['num_orders'])"
   ]
  },
  {
   "cell_type": "markdown",
   "id": "92f157a1-c9c4-41e9-9646-1e07c1ca60ce",
   "metadata": {},
   "source": [
    "Скользящие средние показывают устойчивый рост числа заказов: если весной значения колебались в районе 60–80 заказов в час, то к августу–сентябрю они поднялись выше 120. Краткосрочные колебания сглаживаются при увеличении окна, но тренд остаётся восходящим. С\n",
    "\n",
    "кользящее стандартное отклонение также растёт, что говорит об увеличении изменчивости ряда: к концу периода наблюдается не только рост среднего числа заказов, но и усиление амплитуды колебаний.\n"
   ]
  },
  {
   "cell_type": "markdown",
   "id": "9754eb49-f8ae-4ace-8729-759a89eb7c69",
   "metadata": {},
   "source": [
    "### Лаговые закономерности<a id=\"7\"></a>"
   ]
  },
  {
   "cell_type": "code",
   "execution_count": 15,
   "id": "ad3dcbab-508a-4082-9a1e-0e19282ca888",
   "metadata": {},
   "outputs": [
    {
     "data": {
      "image/png": "[encoded data removed]",
      "text/plain": [
       "<Figure size 1008x288 with 2 Axes>"
      ]
     },
     "metadata": {
      "needs_background": "light"
     },
     "output_type": "display_data"
    }
   ],
   "source": [
    "plot_corrs(df['num_orders'])"
   ]
  },
  {
   "cell_type": "markdown",
   "id": "33aff2cf-6fbe-4f9a-8b82-d6e6dcd9d793",
   "metadata": {},
   "source": [
    "График автокорреляционной функции показывает, что значения временного ряда заметно коррелируют между собой на коротких лагах и проявляют выраженную сезонность примерно с периодом в сутки (24 лага), а также повторяющиеся пики на 48 лагах, что соответствует двухдневному циклу. Это указывает на ярко выраженную суточную структуру спроса. Частичная автокорреляционная функция демонстрирует значимые пики на первых лагах и вблизи 24-го, что подтверждает наличие как краткосрочной зависимости, так и сезонных эффектов.\n",
    "\n",
    "ACF и PACF здесь нужны для того, чтобы определить характер зависимости временного ряда от собственных прошлых значений и оценить наличие сезонности: ACF помогает выявить общий вид корреляции и наличие повторяющихся циклов, а PACF уточняет, на каких лагах сохраняется прямая зависимость после исключения влияния промежуточных лагов. Таким образом, они задают основу для выбора порядка авторегрессии и скользящего среднего в будущей модели.\n"
   ]
  },
  {
   "cell_type": "markdown",
   "id": "a99d94aa-792e-4f2b-81aa-069d7a761642",
   "metadata": {},
   "source": [
    "### Временные закономерности<a id=\"8\"></a>"
   ]
  },
  {
   "cell_type": "code",
   "execution_count": 16,
   "id": "fca8795e-fc29-4d02-ad27-c670b464e555",
   "metadata": {},
   "outputs": [
    {
     "data": {
      "image/png": "[encoded data removed]",
      "text/plain": [
       "<Figure size 1296x288 with 4 Axes>"
      ]
     },
     "metadata": {
      "needs_background": "light"
     },
     "output_type": "display_data"
    }
   ],
   "source": [
    "plot_calendar(df['num_orders'])"
   ]
  },
  {
   "cell_type": "markdown",
   "id": "d3879b3f-0ee1-44c6-b161-9ce26ed446b3",
   "metadata": {},
   "source": [
    "Почасовое распределение заказов показывает чёткую суточную динамику: максимумы приходятся на ночные часы около полуночи и раннее утро, затем следует резкое падение к 6–7 утра, после чего количество заказов постепенно восстанавливается и держится на среднем уровне днём и вечером. По дням недели заметно, что наибольшая активность приходится на понедельник и пятницу, тогда как вторник и воскресенье характеризуются более низким уровнем заказов. Тепловая карта наглядно соединяет эти закономерности: хорошо видно, что ночные пики характерны практически для всех дней, но особенно выражены в начале недели и ближе к выходным. Таким образом, поведение пользователей подчиняется как суточным ритмам, так и недельной сезонности, что важно учитывать при прогнозировании спроса.\n"
   ]
  },
  {
   "cell_type": "code",
   "execution_count": 17,
   "id": "9d07bff8-491e-4f9b-9c8b-52045be3ba5e",
   "metadata": {},
   "outputs": [
    {
     "data": {
      "image/png": "[encoded data removed]",
      "text/plain": [
       "<Figure size 720x288 with 1 Axes>"
      ]
     },
     "metadata": {
      "needs_background": "light"
     },
     "output_type": "display_data"
    }
   ],
   "source": [
    "decomposition = seasonal_decompose(df['num_orders'], model='additive', period=24)\n",
    "\n",
    "seasonal = decomposition.seasonal[:48]\n",
    "plt.figure(figsize=(10, 4))\n",
    "plt.plot(seasonal)\n",
    "plt.title(\"Сезонность (помесячный паттерн на примере первых двух суток)\")\n",
    "plt.xlabel(\"Время\")\n",
    "plt.ylabel(\"Значение\")\n",
    "plt.grid(True)\n",
    "plt.show()"
   ]
  },
  {
   "cell_type": "markdown",
   "id": "5eca38cb-1bce-4e80-b520-21f019a1ee40",
   "metadata": {},
   "source": [
    "Временной ряд спроса на такси имеет ярко выраженный восходящий тренд: к концу периода количество заказов значительно возрастает. Сезонность отчётливо проявляется в виде суточного цикла: минимумы спроса приходятся на ночные часы (2–5 часов), а максимумы — на вечернее время (19–23 часа). Остаточная компонента показывает наличие шума и выбросов, при этом разброс становится больше на фоне роста тренда. Таким образом, ряд характеризуется сочетанием тренда, регулярной дневной сезонности и случайных колебаний, что необходимо учитывать при подготовке признаков для моделирования.\n"
   ]
  },
  {
   "cell_type": "markdown",
   "id": "8aadbc37-9a53-477c-84b6-42fce49ca42b",
   "metadata": {},
   "source": [
    "## Обучение моделей<a id=\"9\"></a>"
   ]
  },
  {
   "cell_type": "markdown",
   "id": "2dc2d11a-34c1-493b-95bf-0e015659223c",
   "metadata": {},
   "source": [
    "### Подготовка признаков<a id=\"10\"></a>"
   ]
  },
  {
   "cell_type": "code",
   "execution_count": 18,
   "id": "07a9bd7f-0bfb-4a6a-b2f2-39424af65540",
   "metadata": {},
   "outputs": [
    {
     "name": "stdout",
     "output_type": "stream",
     "text": [
      "Train set: 3974 rows\n",
      "Test set:  442 rows (10.01%)\n"
     ]
    }
   ],
   "source": [
    "from sklearn.model_selection import train_test_split\n",
    "\n",
    "X = df.drop('num_orders', axis=1)\n",
    "y = df['num_orders']\n",
    "\n",
    "n = len(df)\n",
    "n_test = int(round(n * 0.10))  # ровно 10% строк\n",
    "train_X, test_X, train_y, test_y = train_test_split(\n",
    "    X, y, test_size=0.1, shuffle=False\n",
    ")\n",
    "\n",
    "print(f\"Train set: {len(train_X)} rows\")\n",
    "print(f\"Test set:  {len(test_X)} rows \"\n",
    "      f\"({len(test_X)/n*100:.2f}%)\")\n"
   ]
  },
  {
   "cell_type": "markdown",
   "id": "e6456562-92bf-4eab-bf43-26bb2d7e6ea4",
   "metadata": {},
   "source": [
    "### Линейная регрессия<a id=\"11\"></a>"
   ]
  },
  {
   "cell_type": "code",
   "execution_count": 19,
   "id": "24bb1261-34e1-45ce-9ed7-335bbbf5eae8",
   "metadata": {},
   "outputs": [
    {
     "name": "stdout",
     "output_type": "stream",
     "text": [
      "Средний RMSE линейной регрессии по CV: 22.73\n"
     ]
    }
   ],
   "source": [
    "X, y = build_features(df)\n",
    "n = len(X)\n",
    "n_test = int(round(n * 0.10))\n",
    "train_X, test_X, train_y, test_y = train_test_split(X, y, test_size=n_test, shuffle=False)\n",
    "bool_cols = train_X.select_dtypes(include=['bool']).columns\n",
    "if len(bool_cols):\n",
    "    train_X[bool_cols] = train_X[bool_cols].astype('uint8')\n",
    "tscv = TimeSeriesSplit(n_splits=5)\n",
    "scores = cross_val_score(\n",
    "    LinearRegression(),\n",
    "    train_X.values, train_y.values,\n",
    "    cv=tscv, scoring=\"neg_mean_squared_error\",\n",
    "    error_score=\"raise\"\n",
    ")\n",
    "cv_rmse = np.sqrt(-scores).mean()\n",
    "print(f\"Средний RMSE линейной регрессии по CV: {cv_rmse:.2f}\")"
   ]
  },
  {
   "cell_type": "markdown",
   "id": "7170d00e-cdf1-4191-a419-e9b58e8e900b",
   "metadata": {},
   "source": [
    "### Random Forest<a id=\"12\"></a>"
   ]
  },
  {
   "cell_type": "code",
   "execution_count": 20,
   "id": "80dafc1f-c934-4f16-a047-e4146b938b2d",
   "metadata": {},
   "outputs": [
    {
     "name": "stdout",
     "output_type": "stream",
     "text": [
      "Лучшие параметры RF: {'max_depth': None, 'min_samples_leaf': 1, 'n_estimators': 200}\n",
      "CV RMSE: 23.39\n",
      "RMSE случайного леса: 41.79\n"
     ]
    }
   ],
   "source": [
    "tscv = TimeSeriesSplit(n_splits=5)\n",
    "\n",
    "rf_param_grid = {\n",
    "    'n_estimators': [100, 200],\n",
    "    'max_depth': [5, 10, None],\n",
    "    'min_samples_leaf': [1, 3]\n",
    "}\n",
    "\n",
    "rf_model = RandomForestRegressor(random_state=42, n_jobs=-1)\n",
    "rf_grid_search = GridSearchCV(\n",
    "    rf_model,\n",
    "    rf_param_grid,\n",
    "    cv=tscv,\n",
    "    scoring='neg_mean_squared_error',\n",
    "    n_jobs=-1\n",
    ")\n",
    "rf_grid_search.fit(train_X, train_y)\n",
    "\n",
    "rf_cv_rmse = (-rf_grid_search.best_score_)**0.5\n",
    "print(\"Лучшие параметры RF:\", rf_grid_search.best_params_)\n",
    "print(f\"CV RMSE: {rf_cv_rmse:.2f}\")\n",
    "\n",
    "best_rf = rf_grid_search.best_estimator_\n",
    "rf_pred = best_rf.predict(test_X)\n",
    "rf_rmse = rmse(test_y, rf_pred)\n",
    "print(f\"RMSE случайного леса: {rf_rmse:.2f}\")\n"
   ]
  },
  {
   "cell_type": "markdown",
   "id": "a04b1f91-2ddc-4604-879c-4e2dea21d3a1",
   "metadata": {},
   "source": [
    "### LGBM<a id=\"13\"></a>"
   ]
  },
  {
   "cell_type": "code",
   "execution_count": 22,
   "id": "5a3d6f3c-c1da-44d6-ab86-9870feace4e8",
   "metadata": {},
   "outputs": [
    {
     "name": "stdout",
     "output_type": "stream",
     "text": [
      "[LightGBM] [Warning] num_threads is set=5, n_jobs=-1 will be ignored. Current value: num_threads=5\n",
      "[LightGBM] [Warning] num_threads is set=5, n_jobs=-1 will be ignored. Current value: num_threads=5\n",
      "[LightGBM] [Warning] num_threads is set=5, n_jobs=-1 will be ignored. Current value: num_threads=5\n",
      "[LightGBM] [Warning] num_threads is set=5, n_jobs=-1 will be ignored. Current value: num_threads=5\n",
      "[LightGBM] [Warning] num_threads is set=5, n_jobs=-1 will be ignored. Current value: num_threads=5\n",
      "[LightGBM] [Warning] num_threads is set=5, n_jobs=-1 will be ignored. Current value: num_threads=5\n",
      "[LightGBM] [Warning] num_threads is set=5, n_jobs=-1 will be ignored. Current value: num_threads=5\n",
      "[LightGBM] [Warning] num_threads is set=5, n_jobs=-1 will be ignored. Current value: num_threads=5\n",
      "[LightGBM] [Warning] num_threads is set=5, n_jobs=-1 will be ignored. Current value: num_threads=5\n",
      "[LightGBM] [Warning] num_threads is set=5, n_jobs=-1 will be ignored. Current value: num_threads=5\n",
      "[LightGBM] [Warning] num_threads is set=5, n_jobs=-1 will be ignored. Current value: num_threads=5\n",
      "[LightGBM] [Warning] num_threads is set=5, n_jobs=-1 will be ignored. Current value: num_threads=5\n",
      "[LightGBM] [Warning] num_threads is set=5, n_jobs=-1 will be ignored. Current value: num_threads=5\n",
      "[LightGBM] [Warning] num_threads is set=5, n_jobs=-1 will be ignored. Current value: num_threads=5\n",
      "[LightGBM] [Warning] num_threads is set=5, n_jobs=-1 will be ignored. Current value: num_threads=5\n",
      "[LightGBM] [Warning] num_threads is set=5, n_jobs=-1 will be ignored. Current value: num_threads=5\n",
      "[LightGBM] [Warning] num_threads is set=5, n_jobs=-1 will be ignored. Current value: num_threads=5\n",
      "[LightGBM] [Warning] num_threads is set=5, n_jobs=-1 will be ignored. Current value: num_threads=5\n",
      "[LightGBM] [Warning] num_threads is set=5, n_jobs=-1 will be ignored. Current value: num_threads=5\n",
      "[LightGBM] [Warning] num_threads is set=5, n_jobs=-1 will be ignored. Current value: num_threads=5\n",
      "[LightGBM] [Warning] num_threads is set=5, n_jobs=-1 will be ignored. Current value: num_threads=5\n",
      "[LightGBM] [Warning] num_threads is set=5, n_jobs=-1 will be ignored. Current value: num_threads=5\n",
      "[LightGBM] [Warning] num_threads is set=5, n_jobs=-1 will be ignored. Current value: num_threads=5\n",
      "[LightGBM] [Warning] num_threads is set=5, n_jobs=-1 will be ignored. Current value: num_threads=5\n",
      "[LightGBM] [Warning] num_threads is set=5, n_jobs=-1 will be ignored. Current value: num_threads=5\n",
      "[LightGBM] [Warning] num_threads is set=5, n_jobs=-1 will be ignored. Current value: num_threads=5\n",
      "[LightGBM] [Warning] num_threads is set=5, n_jobs=-1 will be ignored. Current value: num_threads=5\n",
      "[LightGBM] [Warning] num_threads is set=5, n_jobs=-1 will be ignored. Current value: num_threads=5\n",
      "[LightGBM] [Warning] num_threads is set=5, n_jobs=-1 will be ignored. Current value: num_threads=5\n",
      "[LightGBM] [Warning] num_threads is set=5, n_jobs=-1 will be ignored. Current value: num_threads=5\n",
      "[LightGBM] [Warning] num_threads is set=5, n_jobs=-1 will be ignored. Current value: num_threads=5\n",
      "[LightGBM] [Warning] num_threads is set=5, n_jobs=-1 will be ignored. Current value: num_threads=5\n",
      "[LightGBM] [Warning] num_threads is set=5, n_jobs=-1 will be ignored. Current value: num_threads=5\n",
      "[LightGBM] [Warning] num_threads is set=5, n_jobs=-1 will be ignored. Current value: num_threads=5\n",
      "[LightGBM] [Warning] num_threads is set=5, n_jobs=-1 will be ignored. Current value: num_threads=5\n",
      "[LightGBM] [Warning] num_threads is set=5, n_jobs=-1 will be ignored. Current value: num_threads=5\n",
      "[LightGBM] [Warning] num_threads is set=5, n_jobs=-1 will be ignored. Current value: num_threads=5\n",
      "[LightGBM] [Warning] num_threads is set=5, n_jobs=-1 will be ignored. Current value: num_threads=5\n",
      "[LightGBM] [Warning] num_threads is set=5, n_jobs=-1 will be ignored. Current value: num_threads=5\n",
      "[LightGBM] [Warning] num_threads is set=5, n_jobs=-1 will be ignored. Current value: num_threads=5\n",
      "Лучшие параметры LGBM: {'learning_rate': 0.03, 'n_estimators': 300, 'num_leaves': 31}\n",
      "CV RMSE: 23.60\n",
      "RMSE LightGBM: 38.41\n"
     ]
    }
   ],
   "source": [
    "lgb_param_grid = {\n",
    "    'n_estimators': [100, 300],\n",
    "    'learning_rate': [0.1, 0.03],\n",
    "    'num_leaves': [31, 50]\n",
    "}\n",
    "\n",
    "lgb_model = LGBMRegressor(random_state=42, verbose = -1, num_threads = 5)\n",
    "lgb_grid_search = GridSearchCV(\n",
    "    lgb_model,\n",
    "    lgb_param_grid,\n",
    "    cv=tscv,\n",
    "    scoring='neg_mean_squared_error',\n",
    "    n_jobs=-1\n",
    ")\n",
    "lgb_grid_search.fit(train_X, train_y)\n",
    "\n",
    "lgb_cv_rmse = (-lgb_grid_search.best_score_)**0.5\n",
    "print(\"Лучшие параметры LGBM:\", lgb_grid_search.best_params_)\n",
    "print(f\"CV RMSE: {lgb_cv_rmse:.2f}\")\n",
    "\n",
    "best_lgb = lgb_grid_search.best_estimator_\n",
    "lgb_pred = best_lgb.predict(test_X)\n",
    "lgb_rmse = rmse(test_y, lgb_pred)\n",
    "print(f\"RMSE LightGBM: {lgb_rmse:.2f}\")\n"
   ]
  },
  {
   "cell_type": "markdown",
   "id": "b7419df6-7c81-4989-a000-4bbcfabfbd7a",
   "metadata": {},
   "source": [
    "### CatBoost<a id=\"14\"></a>"
   ]
  },
  {
   "cell_type": "code",
   "execution_count": 23,
   "id": "147641a8-072d-40ab-8f0f-93ae4a086075",
   "metadata": {},
   "outputs": [
    {
     "name": "stdout",
     "output_type": "stream",
     "text": [
      "Лучшие параметры CatBoost: {'depth': 6, 'iterations': 500, 'learning_rate': 0.03}\n",
      "CV RMSE: 22.88\n",
      "RMSE CatBoost: 39.50\n"
     ]
    }
   ],
   "source": [
    "cat_param_grid = {\n",
    "    'iterations': [200, 500],\n",
    "    'learning_rate': [0.1, 0.03],\n",
    "    'depth': [6, 8]\n",
    "}\n",
    "\n",
    "cat_model = CatBoostRegressor(verbose=0, random_state=42)\n",
    "cat_grid_search = GridSearchCV(\n",
    "    cat_model,\n",
    "    cat_param_grid,\n",
    "    cv=tscv,\n",
    "    scoring='neg_mean_squared_error',\n",
    "    n_jobs=-1\n",
    ")\n",
    "cat_grid_search.fit(train_X, train_y)\n",
    "\n",
    "cat_cv_rmse = (-cat_grid_search.best_score_)**0.5\n",
    "print(\"Лучшие параметры CatBoost:\", cat_grid_search.best_params_)\n",
    "print(f\"CV RMSE: {cat_cv_rmse:.2f}\")\n",
    "\n",
    "best_cat = cat_grid_search.best_estimator_\n",
    "cat_pred = best_cat.predict(test_X)\n",
    "cat_rmse = rmse(test_y, cat_pred)\n",
    "print(f\"RMSE CatBoost: {cat_rmse:.2f}\")\n"
   ]
  },
  {
   "cell_type": "code",
   "execution_count": 24,
   "id": "3fcf703e-d7b0-494d-8ba7-b4da8e690bee",
   "metadata": {},
   "outputs": [
    {
     "name": "stdout",
     "output_type": "stream",
     "text": [
      "Сравнение RMSE на тесте:\n",
      "Линейная регрессия: 22.73\n",
      "Случайный лес:     41.79\n",
      "LightGBM:          38.41\n",
      "CatBoost:          39.50\n"
     ]
    }
   ],
   "source": [
    "print(\"Сравнение RMSE на тесте:\")\n",
    "print(f\"Линейная регрессия: {cv_rmse:.2f}\")\n",
    "print(f\"Случайный лес:     {rf_rmse:.2f}\")\n",
    "print(f\"LightGBM:          {lgb_rmse:.2f}\")\n",
    "print(f\"CatBoost:          {cat_rmse:.2f}\")"
   ]
  },
  {
   "cell_type": "markdown",
   "id": "cad46d07-e649-4dd8-951b-99533d390d84",
   "metadata": {},
   "source": [
    "## Вывод по проекту<a id=\"15\"></a>"
   ]
  },
  {
   "cell_type": "markdown",
   "id": "516b09a5-162f-4d5f-970c-d3e187cb3572",
   "metadata": {},
   "source": [
    "В рамках проекта была решена задача прогноза количества заказов такси на один час вперёд. Для этого:\n",
    "\n",
    "* подготовили признаки: лаги (1–24 часа, 168 часов), а также календарные признаки (час и день недели);\n",
    "* разделили выборку по времени: 90% на обучение, 10% на тест;\n",
    "* обучили и сравнили несколько моделей: **линейную регрессию**, **Random Forest**, **LightGBM** и **CatBoost**.\n",
    "\n",
    "**Результаты**\n",
    "\n",
    "* Все модели показали RMSE на тестовой выборке меньше целевого порога (48).\n",
    "* Наилучший результат продемонстрировала **линейная регрессия**: она оказалась проще и точнее бустингов и случайного леса.\n",
    "* Причина: данные обладают ярко выраженными регулярными суточными и недельными паттернами, которые хорошо описываются линейной комбинацией лагов и календарных признаков.\n",
    "\n",
    "**Выбор модели**\n",
    "\n",
    "Для внедрения целесообразно выбрать **линейную регрессию**, так как:\n",
    "\n",
    "* она даёт наименьшую ошибку прогноза;\n",
    "* устойчива к переобучению;\n",
    "* интерпретируема (легко объяснить влияние признаков бизнесу);\n",
    "* проста и быстра в обучении/использовании."
   ]
  },
  {
   "cell_type": "markdown",
   "id": "a971514d-9d29-43b2-868c-bd461480bbb8",
   "metadata": {},
   "source": [
    "## Рекомендации для бизнеса<a id=\"15\"></a>\n",
    "\n",
    "1. **Привлечение водителей в пиковые часы.**\n",
    "   Использовать прогнозы модели для раннего оповещения водителей о грядущем росте спроса. Например, в будние дни вечером или в выходные ночью система заранее сообщает водителям о повышенном спросе, предлагая бонусы или повышенный коэффициент.\n",
    "\n",
    "2. **Планирование маркетинговых акций.**\n",
    "   В часы низкого спроса (например, ночью в будние дни) можно стимулировать заказы скидками или промокодами, чтобы сгладить загрузку.\n"
   ]
  }
 ],
 "metadata": {
  "ExecuteTimeLog": [
   {
    "duration": 7236,
    "start_time": "2025-09-04T09:43:34.111Z"
   },
   {
    "duration": 4,
    "start_time": "2025-09-04T09:43:41.349Z"
   },
   {
    "duration": 5,
    "start_time": "2025-09-04T09:43:41.354Z"
   },
   {
    "duration": 4,
    "start_time": "2025-09-04T09:43:41.361Z"
   },
   {
    "duration": 4,
    "start_time": "2025-09-04T09:43:41.367Z"
   },
   {
    "duration": 7,
    "start_time": "2025-09-04T09:43:41.388Z"
   },
   {
    "duration": 54,
    "start_time": "2025-09-04T09:43:41.397Z"
   },
   {
    "duration": 11,
    "start_time": "2025-09-04T09:43:41.452Z"
   },
   {
    "duration": 1241,
    "start_time": "2025-09-04T09:43:41.465Z"
   },
   {
    "duration": 4,
    "start_time": "2025-09-04T09:51:34.826Z"
   },
   {
    "duration": 98,
    "start_time": "2025-09-04T09:52:16.452Z"
   },
   {
    "duration": 4,
    "start_time": "2025-09-04T09:52:24.297Z"
   },
   {
    "duration": 4,
    "start_time": "2025-09-04T09:52:37.686Z"
   },
   {
    "duration": 3136,
    "start_time": "2025-09-04T09:57:41.765Z"
   },
   {
    "duration": 3,
    "start_time": "2025-09-04T09:57:44.903Z"
   },
   {
    "duration": 8,
    "start_time": "2025-09-04T09:57:44.907Z"
   },
   {
    "duration": 5,
    "start_time": "2025-09-04T09:57:44.917Z"
   },
   {
    "duration": 5,
    "start_time": "2025-09-04T09:57:44.924Z"
   },
   {
    "duration": 9,
    "start_time": "2025-09-04T09:57:44.930Z"
   },
   {
    "duration": 62,
    "start_time": "2025-09-04T09:57:44.941Z"
   },
   {
    "duration": 12,
    "start_time": "2025-09-04T09:57:45.004Z"
   },
   {
    "duration": 1425,
    "start_time": "2025-09-04T09:57:45.018Z"
   },
   {
    "duration": 0,
    "start_time": "2025-09-04T09:57:46.445Z"
   },
   {
    "duration": 0,
    "start_time": "2025-09-04T09:57:46.447Z"
   },
   {
    "duration": 0,
    "start_time": "2025-09-04T09:57:46.448Z"
   },
   {
    "duration": 0,
    "start_time": "2025-09-04T09:57:46.449Z"
   },
   {
    "duration": 0,
    "start_time": "2025-09-04T09:57:46.451Z"
   },
   {
    "duration": 0,
    "start_time": "2025-09-04T09:57:46.452Z"
   },
   {
    "duration": 0,
    "start_time": "2025-09-04T09:57:46.454Z"
   },
   {
    "duration": 0,
    "start_time": "2025-09-04T09:57:46.455Z"
   },
   {
    "duration": 0,
    "start_time": "2025-09-04T09:57:46.457Z"
   },
   {
    "duration": 4,
    "start_time": "2025-09-04T09:58:20.038Z"
   },
   {
    "duration": 7,
    "start_time": "2025-09-04T09:58:20.203Z"
   },
   {
    "duration": 13,
    "start_time": "2025-09-04T09:58:20.603Z"
   },
   {
    "duration": 533,
    "start_time": "2025-09-04T09:58:21.453Z"
   },
   {
    "duration": 626,
    "start_time": "2025-09-04T09:58:22.150Z"
   },
   {
    "duration": 974,
    "start_time": "2025-09-04T09:58:22.778Z"
   },
   {
    "duration": 788,
    "start_time": "2025-09-04T09:58:23.754Z"
   },
   {
    "duration": 34,
    "start_time": "2025-09-04T09:58:25.765Z"
   },
   {
    "duration": 4,
    "start_time": "2025-09-04T09:58:26.755Z"
   },
   {
    "duration": 3608,
    "start_time": "2025-09-05T10:44:37.028Z"
   },
   {
    "duration": 3,
    "start_time": "2025-09-05T10:44:40.638Z"
   },
   {
    "duration": 7,
    "start_time": "2025-09-05T10:44:40.643Z"
   },
   {
    "duration": 6,
    "start_time": "2025-09-05T10:44:40.661Z"
   },
   {
    "duration": 5,
    "start_time": "2025-09-05T10:44:40.669Z"
   },
   {
    "duration": 13,
    "start_time": "2025-09-05T10:44:40.676Z"
   },
   {
    "duration": 14,
    "start_time": "2025-09-05T10:44:40.691Z"
   },
   {
    "duration": 84,
    "start_time": "2025-09-05T10:44:40.707Z"
   },
   {
    "duration": 13,
    "start_time": "2025-09-05T10:44:40.793Z"
   },
   {
    "duration": 4,
    "start_time": "2025-09-05T10:44:40.808Z"
   },
   {
    "duration": 10,
    "start_time": "2025-09-05T10:44:40.813Z"
   },
   {
    "duration": 48,
    "start_time": "2025-09-05T10:44:40.825Z"
   },
   {
    "duration": 622,
    "start_time": "2025-09-05T10:44:40.875Z"
   },
   {
    "duration": 701,
    "start_time": "2025-09-05T10:44:41.500Z"
   },
   {
    "duration": 3705,
    "start_time": "2025-09-05T10:44:42.203Z"
   },
   {
    "duration": 831,
    "start_time": "2025-09-05T10:44:45.911Z"
   },
   {
    "duration": 230,
    "start_time": "2025-09-05T10:44:46.744Z"
   },
   {
    "duration": 10,
    "start_time": "2025-09-05T10:44:46.976Z"
   },
   {
    "duration": 11,
    "start_time": "2025-09-05T10:44:46.988Z"
   },
   {
    "duration": 8,
    "start_time": "2025-09-05T10:45:49.506Z"
   },
   {
    "duration": 4,
    "start_time": "2025-09-05T10:45:53.523Z"
   },
   {
    "duration": 7,
    "start_time": "2025-09-05T10:46:01.296Z"
   },
   {
    "duration": 4,
    "start_time": "2025-09-05T10:46:48.727Z"
   },
   {
    "duration": 3202,
    "start_time": "2025-09-05T10:47:46.358Z"
   },
   {
    "duration": 3,
    "start_time": "2025-09-05T10:47:49.562Z"
   },
   {
    "duration": 7,
    "start_time": "2025-09-05T10:47:49.566Z"
   },
   {
    "duration": 6,
    "start_time": "2025-09-05T10:47:49.575Z"
   },
   {
    "duration": 5,
    "start_time": "2025-09-05T10:47:49.583Z"
   },
   {
    "duration": 6,
    "start_time": "2025-09-05T10:47:49.589Z"
   },
   {
    "duration": 8,
    "start_time": "2025-09-05T10:47:49.596Z"
   },
   {
    "duration": 62,
    "start_time": "2025-09-05T10:47:49.605Z"
   },
   {
    "duration": 12,
    "start_time": "2025-09-05T10:47:49.668Z"
   },
   {
    "duration": 47,
    "start_time": "2025-09-05T10:47:49.681Z"
   },
   {
    "duration": 14,
    "start_time": "2025-09-05T10:47:49.730Z"
   },
   {
    "duration": 22,
    "start_time": "2025-09-05T10:47:49.745Z"
   },
   {
    "duration": 569,
    "start_time": "2025-09-05T10:47:49.769Z"
   },
   {
    "duration": 624,
    "start_time": "2025-09-05T10:47:50.341Z"
   },
   {
    "duration": 1013,
    "start_time": "2025-09-05T10:47:50.968Z"
   },
   {
    "duration": 784,
    "start_time": "2025-09-05T10:47:51.983Z"
   },
   {
    "duration": 206,
    "start_time": "2025-09-05T10:47:52.769Z"
   },
   {
    "duration": 12,
    "start_time": "2025-09-05T10:47:52.978Z"
   },
   {
    "duration": 1168,
    "start_time": "2025-09-05T10:47:52.993Z"
   },
   {
    "duration": 172969,
    "start_time": "2025-09-05T10:47:54.163Z"
   },
   {
    "duration": 256769,
    "start_time": "2025-09-05T10:50:47.134Z"
   },
   {
    "duration": 0,
    "start_time": "2025-09-05T10:55:03.905Z"
   },
   {
    "duration": 0,
    "start_time": "2025-09-05T10:55:03.907Z"
   },
   {
    "duration": 74328,
    "start_time": "2025-09-05T10:55:10.947Z"
   },
   {
    "duration": 167130,
    "start_time": "2025-09-05T10:56:25.277Z"
   },
   {
    "duration": 4,
    "start_time": "2025-09-05T10:59:12.409Z"
   }
  ],
  "kernelspec": {
   "display_name": "Python [conda env:base] *",
   "language": "python",
   "name": "conda-base-py"
  },
  "language_info": {
   "codemirror_mode": {
    "name": "ipython",
    "version": 3
   },
   "file_extension": ".py",
   "mimetype": "text/x-python",
   "name": "python",
   "nbconvert_exporter": "python",
   "pygments_lexer": "ipython3",
   "version": "3.12.7"
  },
  "toc": {
   "base_numbering": 1,
   "nav_menu": {},
   "number_sections": true,
   "sideBar": true,
   "skip_h1_title": true,
   "title_cell": "Table of Contents",
   "title_sidebar": "Contents",
   "toc_cell": false,
   "toc_position": {
    "height": "calc(100% - 180px)",
    "left": "10px",
    "top": "150px",
    "width": "231.6px"
   },
   "toc_section_display": true,
   "toc_window_display": true
  }
 },
 "nbformat": 4,
 "nbformat_minor": 5
}
